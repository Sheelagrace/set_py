{
 "cells": [
  {
   "cell_type": "markdown",
   "id": "b4ea908c",
   "metadata": {},
   "source": [
    "### Set"
   ]
  },
  {
   "cell_type": "code",
   "execution_count": 3,
   "id": "7f951751",
   "metadata": {},
   "outputs": [
    {
     "data": {
      "text/plain": [
       "{1.5, 2, 200, 'Sample', 'any', 'hello', 'hi'}"
      ]
     },
     "execution_count": 3,
     "metadata": {},
     "output_type": "execute_result"
    }
   ],
   "source": [
    "sample={\"Sample\",\"hi\",\"hello\",\"any\",2,200,1.5}\n",
    "sample"
   ]
  },
  {
   "cell_type": "code",
   "execution_count": 5,
   "id": "893d6243",
   "metadata": {},
   "outputs": [
    {
     "data": {
      "text/plain": [
       "{1.5, 2, 200, 3, 'Sample', 'any', 'hello', 'hi'}"
      ]
     },
     "execution_count": 5,
     "metadata": {},
     "output_type": "execute_result"
    }
   ],
   "source": [
    "sample={\"Sample\",\"hi\",\"hello\",\"any\",2,200,1.5,3}\n",
    "sample\n"
   ]
  },
  {
   "cell_type": "code",
   "execution_count": 6,
   "id": "5b6b9b49",
   "metadata": {},
   "outputs": [
    {
     "data": {
      "text/plain": [
       "{1.5, 2, 200, 21, 3, 'Sample', 'any', 'hello', 'hi'}"
      ]
     },
     "execution_count": 6,
     "metadata": {},
     "output_type": "execute_result"
    }
   ],
   "source": [
    "sample={\"Sample\",\"hi\",\"hello\",\"any\",2,200,1.5,3,21}\n",
    "sample\n"
   ]
  },
  {
   "cell_type": "code",
   "execution_count": 7,
   "id": "0d0f6bb4",
   "metadata": {},
   "outputs": [
    {
     "data": {
      "text/plain": [
       "{1.5, 2, 200, 'Any', 'Hello1', 'Sample', 'any', 'hello', 'hi'}"
      ]
     },
     "execution_count": 7,
     "metadata": {},
     "output_type": "execute_result"
    }
   ],
   "source": [
    "sample={\"Sample\",\"hi\",\"hello\",\"any\",2,200,1.5,\"Hello1\",\"Any\"}\n",
    "sample\n"
   ]
  },
  {
   "cell_type": "code",
   "execution_count": 8,
   "id": "0e6db788",
   "metadata": {},
   "outputs": [
    {
     "data": {
      "text/plain": [
       "{1.5, 2, 200, 'Any', 'Hello1', 'Sample', 'any', 'hello', 'hi'}"
      ]
     },
     "execution_count": 8,
     "metadata": {},
     "output_type": "execute_result"
    }
   ],
   "source": [
    "sample={\"Sample\",\"hi\",\"hello\",\"any\",2,200,1.5,\"Hello1\",\"Any\",2,200}\n",
    "sample\n"
   ]
  },
  {
   "cell_type": "markdown",
   "id": "13d17e68",
   "metadata": {},
   "source": [
    "### set does not allow duplicates"
   ]
  },
  {
   "cell_type": "markdown",
   "id": "209d32f2",
   "metadata": {},
   "source": [
    "#### it gets arranged according to first number"
   ]
  },
  {
   "cell_type": "code",
   "execution_count": 9,
   "id": "9d00ffa3",
   "metadata": {},
   "outputs": [
    {
     "ename": "TypeError",
     "evalue": "'set' object is not subscriptable",
     "output_type": "error",
     "traceback": [
      "\u001b[1;31m---------------------------------------------------------------------------\u001b[0m",
      "\u001b[1;31mTypeError\u001b[0m                                 Traceback (most recent call last)",
      "Cell \u001b[1;32mIn[9], line 1\u001b[0m\n\u001b[1;32m----> 1\u001b[0m sample[\u001b[38;5;241m0\u001b[39m]\n",
      "\u001b[1;31mTypeError\u001b[0m: 'set' object is not subscriptable"
     ]
    }
   ],
   "source": [
    "sample[0]"
   ]
  },
  {
   "cell_type": "markdown",
   "id": "0cc8fb2d",
   "metadata": {},
   "source": [
    "### we cannot retrieve elements with index"
   ]
  },
  {
   "cell_type": "code",
   "execution_count": 10,
   "id": "9b1cf26e",
   "metadata": {},
   "outputs": [
    {
     "ename": "TypeError",
     "evalue": "'set' object does not support item assignment",
     "output_type": "error",
     "traceback": [
      "\u001b[1;31m---------------------------------------------------------------------------\u001b[0m",
      "\u001b[1;31mTypeError\u001b[0m                                 Traceback (most recent call last)",
      "Cell \u001b[1;32mIn[10], line 1\u001b[0m\n\u001b[1;32m----> 1\u001b[0m sample[\u001b[38;5;241m0\u001b[39m]\u001b[38;5;241m=\u001b[39m\u001b[38;5;241m100\u001b[39m\n",
      "\u001b[1;31mTypeError\u001b[0m: 'set' object does not support item assignment"
     ]
    }
   ],
   "source": [
    "sample[0]=100"
   ]
  },
  {
   "cell_type": "code",
   "execution_count": 12,
   "id": "a5e5133e",
   "metadata": {},
   "outputs": [
    {
     "data": {
      "text/plain": [
       "{1.5, 2, 200, 'Any', 'Hello1', 'Sample', 'any', 'hello', 'hi'}"
      ]
     },
     "execution_count": 12,
     "metadata": {},
     "output_type": "execute_result"
    }
   ],
   "source": [
    "sample={\"Sample\",\"hi\",\"hello\",\"any\",2,200,1.5,\"Hello1\",\"Any\",2,200}\n",
    "sample"
   ]
  },
  {
   "cell_type": "code",
   "execution_count": 14,
   "id": "459f58b1",
   "metadata": {},
   "outputs": [
    {
     "data": {
      "text/plain": [
       "{1.5, 2, 200, 'Any', 'Hello1', 'Sample', 'any', 'hello', 'hi', 'python'}"
      ]
     },
     "execution_count": 14,
     "metadata": {},
     "output_type": "execute_result"
    }
   ],
   "source": [
    "sample.add(\"python\")\n",
    "sample"
   ]
  },
  {
   "cell_type": "code",
   "execution_count": 15,
   "id": "25d0d181",
   "metadata": {},
   "outputs": [
    {
     "data": {
      "text/plain": [
       "{1.5, 10, 2, 200, 'Any', 'Hello1', 'Sample', 'any', 'hello', 'hi', 'python'}"
      ]
     },
     "execution_count": 15,
     "metadata": {},
     "output_type": "execute_result"
    }
   ],
   "source": [
    "sample.add(10)\n",
    "sample"
   ]
  },
  {
   "cell_type": "code",
   "execution_count": 16,
   "id": "953ff05f",
   "metadata": {},
   "outputs": [
    {
     "data": {
      "text/plain": [
       "{1.5,\n",
       " 10,\n",
       " 2,\n",
       " 200,\n",
       " 'Any',\n",
       " 'Hello1',\n",
       " 'Sample',\n",
       " 'any',\n",
       " 'beet',\n",
       " 'hello',\n",
       " 'hi',\n",
       " 'python'}"
      ]
     },
     "execution_count": 16,
     "metadata": {},
     "output_type": "execute_result"
    }
   ],
   "source": [
    "sample.add(\"beet\")\n",
    "sample"
   ]
  },
  {
   "cell_type": "code",
   "execution_count": 18,
   "id": "2545dced",
   "metadata": {},
   "outputs": [
    {
     "data": {
      "text/plain": [
       "frozenset({100, 21, 'A', 'C'})"
      ]
     },
     "execution_count": 18,
     "metadata": {},
     "output_type": "execute_result"
    }
   ],
   "source": [
    "set_1=frozenset([\"A\",\"C\",100,21])\n",
    "set_1"
   ]
  },
  {
   "cell_type": "code",
   "execution_count": 19,
   "id": "5e2f92d1",
   "metadata": {},
   "outputs": [
    {
     "ename": "AttributeError",
     "evalue": "'frozenset' object has no attribute 'add'",
     "output_type": "error",
     "traceback": [
      "\u001b[1;31m---------------------------------------------------------------------------\u001b[0m",
      "\u001b[1;31mAttributeError\u001b[0m                            Traceback (most recent call last)",
      "Cell \u001b[1;32mIn[19], line 1\u001b[0m\n\u001b[1;32m----> 1\u001b[0m set_1\u001b[38;5;241m.\u001b[39madd(\u001b[38;5;241m26\u001b[39m)\n\u001b[0;32m      2\u001b[0m set_1\n",
      "\u001b[1;31mAttributeError\u001b[0m: 'frozenset' object has no attribute 'add'"
     ]
    }
   ],
   "source": [
    "set_1.add(26)\n",
    "set_1"
   ]
  },
  {
   "cell_type": "markdown",
   "id": "67d73450",
   "metadata": {},
   "source": [
    "#### frozenset is like a data security, we cannot change"
   ]
  },
  {
   "cell_type": "code",
   "execution_count": null,
   "id": "3fc16fb8",
   "metadata": {},
   "outputs": [],
   "source": []
  }
 ],
 "metadata": {
  "kernelspec": {
   "display_name": "Python 3 (ipykernel)",
   "language": "python",
   "name": "python3"
  },
  "language_info": {
   "codemirror_mode": {
    "name": "ipython",
    "version": 3
   },
   "file_extension": ".py",
   "mimetype": "text/x-python",
   "name": "python",
   "nbconvert_exporter": "python",
   "pygments_lexer": "ipython3",
   "version": "3.11.5"
  }
 },
 "nbformat": 4,
 "nbformat_minor": 5
}
